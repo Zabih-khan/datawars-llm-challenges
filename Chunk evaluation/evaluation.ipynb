{
 "cells": [
  {
   "cell_type": "code",
   "execution_count": 109,
   "metadata": {},
   "outputs": [],
   "source": [
    "from dotenv import load_dotenv\n",
    "from langchain_core.prompts import ChatPromptTemplate\n",
    "from langchain.chains.combine_documents import create_stuff_documents_chain\n",
    "from langchain.chains import create_retrieval_chain\n",
    "from langchain_openai import OpenAI\n",
    "from langchain.docstore.document import Document\n",
    "from langchain_openai import OpenAIEmbeddings\n",
    "from langchain_chroma import Chroma\n",
    "import json\n",
    "import os\n",
    "import os\n",
    "import json\n",
    "import json\n",
    "from pathlib import Path\n",
    "from pprint import pprint\n",
    "\n"
   ]
  },
  {
   "cell_type": "code",
   "execution_count": 110,
   "metadata": {},
   "outputs": [
    {
     "name": "stdout",
     "output_type": "stream",
     "text": [
      "Current Working Directory: E:\\ML and Data Science work\\Challenge\\datawars-llm-challenges\n"
     ]
    }
   ],
   "source": [
    "from langchain_community.document_loaders import JSONLoader\n",
    "\n",
    "os.chdir(r\"E:\\ML and Data Science work\\Challenge\\datawars-llm-challenges\")\n",
    "print(\"Current Working Directory:\", os.getcwd())\n",
    "file_path = os.path.join(\"chunks_output\", \"chunks.json\")\n",
    "\n",
    "loader = JSONLoader(\n",
    "    file_path=file_path,\n",
    "    jq_schema='.[]',\n",
    "    text_content=False)\n",
    "\n",
    "docs = loader.load()"
   ]
  },
  {
   "cell_type": "code",
   "execution_count": 111,
   "metadata": {},
   "outputs": [],
   "source": [
    "\n",
    "load_dotenv()\n",
    "api_key = os.getenv(\"OPENAI_API_KEY\")\n",
    "\n",
    "embedding = OpenAIEmbeddings()"
   ]
  },
  {
   "cell_type": "code",
   "execution_count": 112,
   "metadata": {},
   "outputs": [],
   "source": [
    "vectorestore = Chroma.from_documents(docs, embedding)"
   ]
  },
  {
   "cell_type": "markdown",
   "metadata": {},
   "source": [
    "# Step 1: Retrieve Relevant Documents"
   ]
  },
  {
   "cell_type": "code",
   "execution_count": 113,
   "metadata": {},
   "outputs": [],
   "source": [
    "base_retriever = vectorestore.as_retriever(search_kwargs={\"k\": 10})"
   ]
  },
  {
   "cell_type": "code",
   "execution_count": null,
   "metadata": {},
   "outputs": [],
   "source": []
  },
  {
   "cell_type": "code",
   "execution_count": 114,
   "metadata": {},
   "outputs": [
    {
     "name": "stdout",
     "output_type": "stream",
     "text": [
      "Retrieve Relevant Documents\n",
      "Content: {\"title\": \"Python Pandas Tutorial (Part 8): Grouping and Aggregating - Analyzing and Exploring Your Data\", \"text\": \". So let's see what this would look like. So I can say and I'll just call this data frame Python df. And now I'm gonna create a data frame where we concat those 2 series into 1. So I can say pd.concat, and now I'm gonna pass in a list of the series that we want to concatenate. So I want this to be our country respondents and I also want to add in this country uses Python series. And now, we also want to set axis equal to columns because by default, it's going to try to concatenate these on row, but we wanna match up the indexes here so that it concats it, that way instead. So we wanna say axis is equal to columns. And then finally, I'm also gonna put sort is equal to false\"}\n",
      "\n",
      "Content: {\"title\": \"Python Pandas Tutorial (Part 8): Grouping and Aggregating - Analyzing and Exploring Your Data\", \"text\": \". So let's see what this would look like. So I can say and I'll just call this data frame Python df. And now I'm gonna create a data frame where we concat those 2 series into 1. So I can say pd.concat, and now I'm gonna pass in a list of the series that we want to concatenate. So I want this to be our country respondents and I also want to add in this country uses Python series. And now, we also want to set axis equal to columns because by default, it's going to try to concatenate these on row, but we wanna match up the indexes here so that it concats it, that way instead. So we wanna say axis is equal to columns. And then finally, I'm also gonna put sort is equal to false\"}\n",
      "\n",
      "Content: {\"title\": \"Python Pandas Tutorial (Part 8): Grouping and Aggregating - Analyzing and Exploring Your Data\", \"text\": \". So let's see what this would look like. So I can say and I'll just call this data frame Python df. And now I'm gonna create a data frame where we concat those 2 series into 1. So I can say pd.concat, and now I'm gonna pass in a list of the series that we want to concatenate. So I want this to be our country respondents and I also want to add in this country uses Python series. And now, we also want to set axis equal to columns because by default, it's going to try to concatenate these on row, but we wanna match up the indexes here so that it concats it, that way instead. So we wanna say axis is equal to columns. And then finally, I'm also gonna put sort is equal to false\"}\n",
      "\n",
      "Content: {\"title\": \"Python Pandas Tutorial (Part 8): Grouping and Aggregating - Analyzing and Exploring Your Data\", \"text\": \". So let's see what this would look like. So I can say and I'll just call this data frame Python df. And now I'm gonna create a data frame where we concat those 2 series into 1. So I can say pd.concat, and now I'm gonna pass in a list of the series that we want to concatenate. So I want this to be our country respondents and I also want to add in this country uses Python series. And now, we also want to set axis equal to columns because by default, it's going to try to concatenate these on row, but we wanna match up the indexes here so that it concats it, that way instead. So we wanna say axis is equal to columns. And then finally, I'm also gonna put sort is equal to false\"}\n",
      "\n",
      "Content: {\"title\": \"Python Pandas Tutorial (Part 8): Grouping and Aggregating - Analyzing and Exploring Your Data\", \"text\": \". So first, let's look at splitting the object. Now, in this case, we want to group all of the results by country. So to do this, we can simply say, df.groupby, and then we will pass in, this is going to be a list of columns that we want to group on. And I'm just gonna pass in a single column here for country. So if I run this, then what we get back here is this data frame group by object. So what is this object, and what exactly can we do with this? So first, let's explain a bit what this is. So, this object contains a bunch of groups, and to better understand what this is, let's take a look at an individual group, that this DataFrame has. Now, before we do that, I am going to set this as a variable so that we can reuse this, and not have to retype our code over and over, and also it will be easier to read. So I am going to call this country group, and I'm just going to set this equal to this df.groupby\"}\n",
      "\n",
      "Content: {\"title\": \"Python Pandas Tutorial (Part 8): Grouping and Aggregating - Analyzing and Exploring Your Data\", \"text\": \". Okay. So now let's look at how to use the group by function on our country column. So first we're going to split the object, and then we're going to apply a function, and then it will combine those results. So first, let's look at splitting the object. Now, in this case, we want to group all of the results by country. So to do this, we can simply say, df.groupby, and then we will pass in, this is going to be a list of columns that we want to group on. And I'm just gonna pass in a single column here for country. So if I run this, then what we get back here is this data frame group by object. So what is this object, and what exactly can we do with this? So first, let's explain a bit what this is\"}\n",
      "\n",
      "Content: {\"title\": \"Python Pandas Tutorial (Part 8): Grouping and Aggregating - Analyzing and Exploring Your Data\", \"text\": \". Okay. So now let's look at how to use the group by function on our country column. So first we're going to split the object, and then we're going to apply a function, and then it will combine those results. So first, let's look at splitting the object. Now, in this case, we want to group all of the results by country. So to do this, we can simply say, df.groupby, and then we will pass in, this is going to be a list of columns that we want to group on. And I'm just gonna pass in a single column here for country. So if I run this, then what we get back here is this data frame group by object. So what is this object, and what exactly can we do with this? So first, let's explain a bit what this is\"}\n",
      "\n",
      "Content: {\"title\": \"Python Pandas Tutorial (Part 8): Grouping and Aggregating - Analyzing and Exploring Your Data\", \"text\": \". Okay. So now let's look at how to use the group by function on our country column. So first we're going to split the object, and then we're going to apply a function, and then it will combine those results. So first, let's look at splitting the object. Now, in this case, we want to group all of the results by country. So to do this, we can simply say, df.groupby, and then we will pass in, this is going to be a list of columns that we want to group on. And I'm just gonna pass in a single column here for country. So if I run this, then what we get back here is this data frame group by object. So what is this object, and what exactly can we do with this? So first, let's explain a bit what this is\"}\n",
      "\n",
      "Content: {\"title\": \"Python Pandas Tutorial (Part 8): Grouping and Aggregating - Analyzing and Exploring Your Data\", \"text\": \". Okay. So now let's look at how to use the group by function on our country column. So first we're going to split the object, and then we're going to apply a function, and then it will combine those results. So first, let's look at splitting the object. Now, in this case, we want to group all of the results by country. So to do this, we can simply say, df.groupby, and then we will pass in, this is going to be a list of columns that we want to group on. And I'm just gonna pass in a single column here for country. So if I run this, then what we get back here is this data frame group by object. So what is this object, and what exactly can we do with this? So first, let's explain a bit what this is\"}\n",
      "\n",
      "Content: {\"title\": \"Python Pandas Tutorial (Part 8): Grouping and Aggregating - Analyzing and Exploring Your Data\", \"text\": \". And if I look at the group for India, so if I instead change United States to India here and grab that group, if we look at the country here, then these are all the survey results for people who said that they were from India. So that's what our data frame group by object that we saw before consists of. It has broken up all of the different responses into groups by country name. So this would be similar to running a filter on our original data frame. So I should be able to get these same results for a single country, just by doing what we've seen in previous videos and creating a filter\"}\n",
      "\n"
     ]
    }
   ],
   "source": [
    "response = base_retriever.invoke(\"How to group a datafram in panda?\")\n",
    "\n",
    "print(\"Retrieve Relevant Documents\")\n",
    "for result in response:\n",
    "   \n",
    "    print(\"Content:\", result.page_content)\n",
    "    print()\n"
   ]
  },
  {
   "cell_type": "markdown",
   "metadata": {},
   "source": [
    "# Step 2: Build the QA Chain"
   ]
  },
  {
   "cell_type": "code",
   "execution_count": 115,
   "metadata": {},
   "outputs": [
    {
     "name": "stdout",
     "output_type": "stream",
     "text": [
      "Generated Response: {'response': AIMessage(content='To group a dataframe in pandas, you can use the groupby function. You can pass in a list of columns that you want to group on to the groupby function. For example, if you want to group all of the results by country, you can simply say, df.groupby, and then pass in a single column for country. This will return a data frame group by object.', additional_kwargs={'refusal': None}, response_metadata={'token_usage': {'completion_tokens': 78, 'prompt_tokens': 2657, 'total_tokens': 2735}, 'model_name': 'gpt-4-0613', 'system_fingerprint': None, 'finish_reason': 'stop', 'logprobs': None}, id='run-1b1d32e3-9f58-458a-bd4d-c05e661fb7e7-0', usage_metadata={'input_tokens': 2657, 'output_tokens': 78, 'total_tokens': 2735}), 'context': [Document(metadata={'seq_num': 297, 'source': 'E:\\\\ML and Data Science work\\\\Challenge\\\\datawars-llm-challenges\\\\chunks_output\\\\chunks.json'}, page_content='{\"title\": \"Python Pandas Tutorial (Part 8): Grouping and Aggregating - Analyzing and Exploring Your Data\", \"text\": \". So first, let\\'s look at splitting the object. Now, in this case, we want to group all of the results by country. So to do this, we can simply say, df.groupby, and then we will pass in, this is going to be a list of columns that we want to group on. And I\\'m just gonna pass in a single column here for country. So if I run this, then what we get back here is this data frame group by object. So what is this object, and what exactly can we do with this? So first, let\\'s explain a bit what this is. So, this object contains a bunch of groups, and to better understand what this is, let\\'s take a look at an individual group, that this DataFrame has. Now, before we do that, I am going to set this as a variable so that we can reuse this, and not have to retype our code over and over, and also it will be easier to read. So I am going to call this country group, and I\\'m just going to set this equal to this df.groupby\"}'), Document(metadata={'seq_num': 339, 'source': 'E:\\\\ML and Data Science work\\\\Challenge\\\\datawars-llm-challenges\\\\chunks_output\\\\chunks.json'}, page_content='{\"title\": \"Python Pandas Tutorial (Part 8): Grouping and Aggregating - Analyzing and Exploring Your Data\", \"text\": \". So, this object contains a bunch of groups, and to better understand what this is, let\\'s take a look at an individual group, that this DataFrame has. Now, before we do that, I am going to set this as a variable so that we can reuse this, and not have to retype our code over and over, and also it will be easier to read. So I am going to call this country group, and I\\'m just going to set this equal to this df.groupby. And now, instead of typing this every time, we can just reference this country group variable here. So now let\\'s take a look at one of these groups. So since we grouped our rows by country, then we can grab a specific group by country name. So I\\'ll grab the group for the United States\"}'), Document(metadata={'seq_num': 339, 'source': 'E:\\\\ML and Data Science work\\\\Challenge\\\\datawars-llm-challenges\\\\chunks_output\\\\chunks.json'}, page_content='{\"title\": \"Python Pandas Tutorial (Part 8): Grouping and Aggregating - Analyzing and Exploring Your Data\", \"text\": \". So, this object contains a bunch of groups, and to better understand what this is, let\\'s take a look at an individual group, that this DataFrame has. Now, before we do that, I am going to set this as a variable so that we can reuse this, and not have to retype our code over and over, and also it will be easier to read. So I am going to call this country group, and I\\'m just going to set this equal to this df.groupby. And now, instead of typing this every time, we can just reference this country group variable here. So now let\\'s take a look at one of these groups. So since we grouped our rows by country, then we can grab a specific group by country name. So I\\'ll grab the group for the United States\"}'), Document(metadata={'seq_num': 339, 'source': 'E:\\\\ML and Data Science work\\\\Challenge\\\\datawars-llm-challenges\\\\chunks_output\\\\chunks.json'}, page_content='{\"title\": \"Python Pandas Tutorial (Part 8): Grouping and Aggregating - Analyzing and Exploring Your Data\", \"text\": \". So, this object contains a bunch of groups, and to better understand what this is, let\\'s take a look at an individual group, that this DataFrame has. Now, before we do that, I am going to set this as a variable so that we can reuse this, and not have to retype our code over and over, and also it will be easier to read. So I am going to call this country group, and I\\'m just going to set this equal to this df.groupby. And now, instead of typing this every time, we can just reference this country group variable here. So now let\\'s take a look at one of these groups. So since we grouped our rows by country, then we can grab a specific group by country name. So I\\'ll grab the group for the United States\"}'), Document(metadata={'seq_num': 339, 'source': 'E:\\\\ML and Data Science work\\\\Challenge\\\\datawars-llm-challenges\\\\chunks_output\\\\chunks.json'}, page_content='{\"title\": \"Python Pandas Tutorial (Part 8): Grouping and Aggregating - Analyzing and Exploring Your Data\", \"text\": \". So, this object contains a bunch of groups, and to better understand what this is, let\\'s take a look at an individual group, that this DataFrame has. Now, before we do that, I am going to set this as a variable so that we can reuse this, and not have to retype our code over and over, and also it will be easier to read. So I am going to call this country group, and I\\'m just going to set this equal to this df.groupby. And now, instead of typing this every time, we can just reference this country group variable here. So now let\\'s take a look at one of these groups. So since we grouped our rows by country, then we can grab a specific group by country name. So I\\'ll grab the group for the United States\"}'), Document(metadata={'seq_num': 295, 'source': 'E:\\\\ML and Data Science work\\\\Challenge\\\\datawars-llm-challenges\\\\chunks_output\\\\chunks.json'}, page_content='{\"title\": \"Python Pandas Tutorial (Part 8): Grouping and Aggregating - Analyzing and Exploring Your Data\", \"text\": \"have the most results for this particular survey. So to do this, we can just access the country column, and if I run this, we can see that, this gives us the country that each respondent said that they were from. And if we look at the value counts for this, then this is going to tally up all of the unique responses. So we can see that, the majority of this survey was answered by developers in the United States, and, in second was India, then Germany, United Kingdom, Canada, and so on. Okay. So now let\\'s look at how to use the group by function on our country column. So first we\\'re going to split the object, and then we\\'re going to apply a function, and then it will combine those results. So first, let\\'s look at splitting the object. Now, in this case, we want to group all of the results by country. So to do this, we can simply say, df.groupby, and then we will pass in, this is going to be a list of columns that we want to group on. And I\\'m just gonna pass in a single column here for\"}'), Document(metadata={'seq_num': 338, 'source': 'E:\\\\ML and Data Science work\\\\Challenge\\\\datawars-llm-challenges\\\\chunks_output\\\\chunks.json'}, page_content='{\"title\": \"Python Pandas Tutorial (Part 8): Grouping and Aggregating - Analyzing and Exploring Your Data\", \"text\": \". Okay. So now let\\'s look at how to use the group by function on our country column. So first we\\'re going to split the object, and then we\\'re going to apply a function, and then it will combine those results. So first, let\\'s look at splitting the object. Now, in this case, we want to group all of the results by country. So to do this, we can simply say, df.groupby, and then we will pass in, this is going to be a list of columns that we want to group on. And I\\'m just gonna pass in a single column here for country. So if I run this, then what we get back here is this data frame group by object. So what is this object, and what exactly can we do with this? So first, let\\'s explain a bit what this is\"}'), Document(metadata={'seq_num': 338, 'source': 'E:\\\\ML and Data Science work\\\\Challenge\\\\datawars-llm-challenges\\\\chunks_output\\\\chunks.json'}, page_content='{\"title\": \"Python Pandas Tutorial (Part 8): Grouping and Aggregating - Analyzing and Exploring Your Data\", \"text\": \". Okay. So now let\\'s look at how to use the group by function on our country column. So first we\\'re going to split the object, and then we\\'re going to apply a function, and then it will combine those results. So first, let\\'s look at splitting the object. Now, in this case, we want to group all of the results by country. So to do this, we can simply say, df.groupby, and then we will pass in, this is going to be a list of columns that we want to group on. And I\\'m just gonna pass in a single column here for country. So if I run this, then what we get back here is this data frame group by object. So what is this object, and what exactly can we do with this? So first, let\\'s explain a bit what this is\"}'), Document(metadata={'seq_num': 338, 'source': 'E:\\\\ML and Data Science work\\\\Challenge\\\\datawars-llm-challenges\\\\chunks_output\\\\chunks.json'}, page_content='{\"title\": \"Python Pandas Tutorial (Part 8): Grouping and Aggregating - Analyzing and Exploring Your Data\", \"text\": \". Okay. So now let\\'s look at how to use the group by function on our country column. So first we\\'re going to split the object, and then we\\'re going to apply a function, and then it will combine those results. So first, let\\'s look at splitting the object. Now, in this case, we want to group all of the results by country. So to do this, we can simply say, df.groupby, and then we will pass in, this is going to be a list of columns that we want to group on. And I\\'m just gonna pass in a single column here for country. So if I run this, then what we get back here is this data frame group by object. So what is this object, and what exactly can we do with this? So first, let\\'s explain a bit what this is\"}'), Document(metadata={'seq_num': 338, 'source': 'E:\\\\ML and Data Science work\\\\Challenge\\\\datawars-llm-challenges\\\\chunks_output\\\\chunks.json'}, page_content='{\"title\": \"Python Pandas Tutorial (Part 8): Grouping and Aggregating - Analyzing and Exploring Your Data\", \"text\": \". Okay. So now let\\'s look at how to use the group by function on our country column. So first we\\'re going to split the object, and then we\\'re going to apply a function, and then it will combine those results. So first, let\\'s look at splitting the object. Now, in this case, we want to group all of the results by country. So to do this, we can simply say, df.groupby, and then we will pass in, this is going to be a list of columns that we want to group on. And I\\'m just gonna pass in a single column here for country. So if I run this, then what we get back here is this data frame group by object. So what is this object, and what exactly can we do with this? So first, let\\'s explain a bit what this is\"}')]}\n"
     ]
    }
   ],
   "source": [
    "from operator import itemgetter\n",
    "from langchain.schema.runnable import RunnableLambda, RunnablePassthrough\n",
    "from langchain.prompts import ChatPromptTemplate\n",
    "from langchain_openai import ChatOpenAI\n",
    "\n",
    "primary_qa_llm = ChatOpenAI(model_name=\"gpt-4\", temperature=0)\n",
    "\n",
    "template = \"\"\"Answer the question based only on the following context. If you cannot answer the question with the context, please respond with 'I don't know':\n",
    "\n",
    "### CONTEXT\n",
    "{context}\n",
    "\n",
    "### QUESTION\n",
    "Question: {question}\n",
    "\"\"\"\n",
    "\n",
    "prompt = ChatPromptTemplate.from_template(template)\n",
    "\n",
    "retrieval_augmented_qa_chain = (\n",
    "    {\"context\": itemgetter(\"question\") | base_retriever, \"question\": itemgetter(\"question\")}\n",
    "    | RunnablePassthrough.assign(context=itemgetter(\"context\"))\n",
    "    | {\"response\": prompt | primary_qa_llm, \"context\": itemgetter(\"context\")}\n",
    ")\n",
    "\n",
    "question = \"How to group a dataframe in pandas?\"\n",
    "\n",
    "result = retrieval_augmented_qa_chain.invoke({\"question\": question})\n",
    "\n",
    "print(\"Generated Response:\", result)\n"
   ]
  },
  {
   "cell_type": "markdown",
   "metadata": {},
   "source": [
    "# Step 3: Generate Questions\n"
   ]
  },
  {
   "cell_type": "code",
   "execution_count": 116,
   "metadata": {},
   "outputs": [
    {
     "name": "stderr",
     "output_type": "stream",
     "text": [
      " 10%|█         | 1/10 [00:03<00:32,  3.58s/it]"
     ]
    },
    {
     "name": "stdout",
     "output_type": "stream",
     "text": [
      "Generated Question: {'question': \"In the context of Python Pandas, describe how to concatenate two series into one data frame and explain the role of setting the axis equal to columns. Also, clarify the usage of 'sort is equal to false' in the process.\"}\n",
      "[HumanMessage(content='\\nYou are a University Professor creating a test from pandas and matplotlip tutorials for advanced students. For each context, create a question that is specific to the context. Avoid creating generic or general questions.\\n\\nFormat the output as JSON with the following key:\\nquestion\\n\\nContext: {\"title\": \"Python Pandas Tutorial (Part 8): Grouping and Aggregating - Analyzing and Exploring Your Data\", \"text\": \". So let\\'s see what this would look like. So I can say and I\\'ll just call this data frame Python df. And now I\\'m gonna create a data frame where we concat those 2 series into 1. So I can say pd.concat, and now I\\'m gonna pass in a list of the series that we want to concatenate. So I want this to be our country respondents and I also want to add in this country uses Python series. And now, we also want to set axis equal to columns because by default, it\\'s going to try to concatenate these on row, but we wanna match up the indexes here so that it concats it, that way instead. So we wanna say axis is equal to columns. And then finally, I\\'m also gonna put sort is equal to false\"}\\n')]\n"
     ]
    },
    {
     "name": "stderr",
     "output_type": "stream",
     "text": [
      " 20%|██        | 2/10 [00:06<00:27,  3.41s/it]"
     ]
    },
    {
     "name": "stdout",
     "output_type": "stream",
     "text": [
      "Generated Question: {'question': 'Given the tutorial on grouping and aggregating in Python Pandas, how would you create a DataFrame where two series are concatenated into one? What parameters would you pass in the pd.concat function to ensure that the series are concatenated by columns and not by rows, and to prevent sorting?'}\n",
      "[HumanMessage(content='\\nYou are a University Professor creating a test from pandas and matplotlip tutorials for advanced students. For each context, create a question that is specific to the context. Avoid creating generic or general questions.\\n\\nFormat the output as JSON with the following key:\\nquestion\\n\\nContext: {\"title\": \"Python Pandas Tutorial (Part 8): Grouping and Aggregating - Analyzing and Exploring Your Data\", \"text\": \". So let\\'s see what this would look like. So I can say and I\\'ll just call this data frame Python df. And now I\\'m gonna create a data frame where we concat those 2 series into 1. So I can say pd.concat, and now I\\'m gonna pass in a list of the series that we want to concatenate. So I want this to be our country respondents and I also want to add in this country uses Python series. And now, we also want to set axis equal to columns because by default, it\\'s going to try to concatenate these on row, but we wanna match up the indexes here so that it concats it, that way instead. So we wanna say axis is equal to columns. And then finally, I\\'m also gonna put sort is equal to false\"}\\n')]\n"
     ]
    },
    {
     "name": "stderr",
     "output_type": "stream",
     "text": [
      " 30%|███       | 3/10 [00:10<00:24,  3.45s/it]"
     ]
    },
    {
     "name": "stdout",
     "output_type": "stream",
     "text": [
      "Generated Question: {'question': \"In the context of the tutorial, you are given two series: 'country respondents' and 'country uses Python'. How would you concatenate these two series into one data frame using pandas, considering that you want to match up the indexes and not sort the result?\"}\n",
      "[HumanMessage(content='\\nYou are a University Professor creating a test from pandas and matplotlip tutorials for advanced students. For each context, create a question that is specific to the context. Avoid creating generic or general questions.\\n\\nFormat the output as JSON with the following key:\\nquestion\\n\\nContext: {\"title\": \"Python Pandas Tutorial (Part 8): Grouping and Aggregating - Analyzing and Exploring Your Data\", \"text\": \". So let\\'s see what this would look like. So I can say and I\\'ll just call this data frame Python df. And now I\\'m gonna create a data frame where we concat those 2 series into 1. So I can say pd.concat, and now I\\'m gonna pass in a list of the series that we want to concatenate. So I want this to be our country respondents and I also want to add in this country uses Python series. And now, we also want to set axis equal to columns because by default, it\\'s going to try to concatenate these on row, but we wanna match up the indexes here so that it concats it, that way instead. So we wanna say axis is equal to columns. And then finally, I\\'m also gonna put sort is equal to false\"}\\n')]\n"
     ]
    },
    {
     "name": "stderr",
     "output_type": "stream",
     "text": [
      " 40%|████      | 4/10 [00:14<00:23,  3.89s/it]"
     ]
    },
    {
     "name": "stdout",
     "output_type": "stream",
     "text": [
      "Generated Question: {'question': \"In the context of Python Pandas, as discussed in the tutorial 'Part 8: Grouping and Aggregating - Analyzing and Exploring Your Data', explain the function of 'pd.concat' when used with the parameters 'axis = columns' and 'sort = false'. What would be the expected output if you were to concatenate two series, 'country respondents' and 'country uses Python series', using these parameters?\"}\n",
      "[HumanMessage(content='\\nYou are a University Professor creating a test from pandas and matplotlip tutorials for advanced students. For each context, create a question that is specific to the context. Avoid creating generic or general questions.\\n\\nFormat the output as JSON with the following key:\\nquestion\\n\\nContext: {\"title\": \"Python Pandas Tutorial (Part 8): Grouping and Aggregating - Analyzing and Exploring Your Data\", \"text\": \". So let\\'s see what this would look like. So I can say and I\\'ll just call this data frame Python df. And now I\\'m gonna create a data frame where we concat those 2 series into 1. So I can say pd.concat, and now I\\'m gonna pass in a list of the series that we want to concatenate. So I want this to be our country respondents and I also want to add in this country uses Python series. And now, we also want to set axis equal to columns because by default, it\\'s going to try to concatenate these on row, but we wanna match up the indexes here so that it concats it, that way instead. So we wanna say axis is equal to columns. And then finally, I\\'m also gonna put sort is equal to false\"}\\n')]\n"
     ]
    },
    {
     "name": "stderr",
     "output_type": "stream",
     "text": [
      " 50%|█████     | 5/10 [00:21<00:25,  5.02s/it]"
     ]
    },
    {
     "name": "stdout",
     "output_type": "stream",
     "text": [
      "Generated Question: {'question': \"In the context of the tutorial 'Python Pandas Tutorial (Part 8): Grouping and Aggregating - Analyzing and Exploring Your Data', what is the purpose of the df.groupby function and how is it used when analyzing data by country? Provide a detailed explanation with a code example.\"}\n",
      "[HumanMessage(content='\\nYou are a University Professor creating a test from pandas and matplotlip tutorials for advanced students. For each context, create a question that is specific to the context. Avoid creating generic or general questions.\\n\\nFormat the output as JSON with the following key:\\nquestion\\n\\nContext: {\"title\": \"Python Pandas Tutorial (Part 8): Grouping and Aggregating - Analyzing and Exploring Your Data\", \"text\": \". So first, let\\'s look at splitting the object. Now, in this case, we want to group all of the results by country. So to do this, we can simply say, df.groupby, and then we will pass in, this is going to be a list of columns that we want to group on. And I\\'m just gonna pass in a single column here for country. So if I run this, then what we get back here is this data frame group by object. So what is this object, and what exactly can we do with this? So first, let\\'s explain a bit what this is. So, this object contains a bunch of groups, and to better understand what this is, let\\'s take a look at an individual group, that this DataFrame has. Now, before we do that, I am going to set this as a variable so that we can reuse this, and not have to retype our code over and over, and also it will be easier to read. So I am going to call this country group, and I\\'m just going to set this equal to this df.groupby\"}\\n')]\n"
     ]
    },
    {
     "name": "stderr",
     "output_type": "stream",
     "text": [
      " 60%|██████    | 6/10 [00:25<00:17,  4.36s/it]"
     ]
    },
    {
     "name": "stdout",
     "output_type": "stream",
     "text": [
      "Generated Question: {'question': \"Explain the steps and process to use the 'groupby' function in pandas to group data by the 'country' column. What is the 'data frame group by' object and how can it be utilized?\"}\n",
      "[HumanMessage(content='\\nYou are a University Professor creating a test from pandas and matplotlip tutorials for advanced students. For each context, create a question that is specific to the context. Avoid creating generic or general questions.\\n\\nFormat the output as JSON with the following key:\\nquestion\\n\\nContext: {\"title\": \"Python Pandas Tutorial (Part 8): Grouping and Aggregating - Analyzing and Exploring Your Data\", \"text\": \". Okay. So now let\\'s look at how to use the group by function on our country column. So first we\\'re going to split the object, and then we\\'re going to apply a function, and then it will combine those results. So first, let\\'s look at splitting the object. Now, in this case, we want to group all of the results by country. So to do this, we can simply say, df.groupby, and then we will pass in, this is going to be a list of columns that we want to group on. And I\\'m just gonna pass in a single column here for country. So if I run this, then what we get back here is this data frame group by object. So what is this object, and what exactly can we do with this? So first, let\\'s explain a bit what this is\"}\\n')]\n"
     ]
    },
    {
     "name": "stderr",
     "output_type": "stream",
     "text": [
      " 70%|███████   | 7/10 [00:28<00:12,  4.11s/it]"
     ]
    },
    {
     "name": "stdout",
     "output_type": "stream",
     "text": [
      "Generated Question: {'question': \"Explain the process of using the groupby function on a DataFrame in Python Pandas. How does it work when applied on a single column such as 'country'? What is a DataFrame GroupBy object and what operations can be performed on it?\"}\n",
      "[HumanMessage(content='\\nYou are a University Professor creating a test from pandas and matplotlip tutorials for advanced students. For each context, create a question that is specific to the context. Avoid creating generic or general questions.\\n\\nFormat the output as JSON with the following key:\\nquestion\\n\\nContext: {\"title\": \"Python Pandas Tutorial (Part 8): Grouping and Aggregating - Analyzing and Exploring Your Data\", \"text\": \". Okay. So now let\\'s look at how to use the group by function on our country column. So first we\\'re going to split the object, and then we\\'re going to apply a function, and then it will combine those results. So first, let\\'s look at splitting the object. Now, in this case, we want to group all of the results by country. So to do this, we can simply say, df.groupby, and then we will pass in, this is going to be a list of columns that we want to group on. And I\\'m just gonna pass in a single column here for country. So if I run this, then what we get back here is this data frame group by object. So what is this object, and what exactly can we do with this? So first, let\\'s explain a bit what this is\"}\\n')]\n"
     ]
    },
    {
     "name": "stderr",
     "output_type": "stream",
     "text": [
      " 80%|████████  | 8/10 [00:32<00:08,  4.12s/it]"
     ]
    },
    {
     "name": "stdout",
     "output_type": "stream",
     "text": [
      "Generated Question: {'question': \"What is the process and syntax for grouping data based on the 'country' column in a DataFrame using Python Pandas, as explained in the tutorial Part 8: Grouping and Aggregating - Analyzing and Exploring Your Data?\"}\n",
      "[HumanMessage(content='\\nYou are a University Professor creating a test from pandas and matplotlip tutorials for advanced students. For each context, create a question that is specific to the context. Avoid creating generic or general questions.\\n\\nFormat the output as JSON with the following key:\\nquestion\\n\\nContext: {\"title\": \"Python Pandas Tutorial (Part 8): Grouping and Aggregating - Analyzing and Exploring Your Data\", \"text\": \". Okay. So now let\\'s look at how to use the group by function on our country column. So first we\\'re going to split the object, and then we\\'re going to apply a function, and then it will combine those results. So first, let\\'s look at splitting the object. Now, in this case, we want to group all of the results by country. So to do this, we can simply say, df.groupby, and then we will pass in, this is going to be a list of columns that we want to group on. And I\\'m just gonna pass in a single column here for country. So if I run this, then what we get back here is this data frame group by object. So what is this object, and what exactly can we do with this? So first, let\\'s explain a bit what this is\"}\\n')]\n"
     ]
    },
    {
     "name": "stderr",
     "output_type": "stream",
     "text": [
      " 90%|█████████ | 9/10 [00:35<00:03,  3.76s/it]"
     ]
    },
    {
     "name": "stdout",
     "output_type": "stream",
     "text": [
      "Generated Question: {'question': \"In the given Python Pandas tutorial, the group by function is used on the 'country' column. Can you explain the sequence of actions performed after applying the group by function, and also describe the result obtained after its execution?\"}\n",
      "[HumanMessage(content='\\nYou are a University Professor creating a test from pandas and matplotlip tutorials for advanced students. For each context, create a question that is specific to the context. Avoid creating generic or general questions.\\n\\nFormat the output as JSON with the following key:\\nquestion\\n\\nContext: {\"title\": \"Python Pandas Tutorial (Part 8): Grouping and Aggregating - Analyzing and Exploring Your Data\", \"text\": \". Okay. So now let\\'s look at how to use the group by function on our country column. So first we\\'re going to split the object, and then we\\'re going to apply a function, and then it will combine those results. So first, let\\'s look at splitting the object. Now, in this case, we want to group all of the results by country. So to do this, we can simply say, df.groupby, and then we will pass in, this is going to be a list of columns that we want to group on. And I\\'m just gonna pass in a single column here for country. So if I run this, then what we get back here is this data frame group by object. So what is this object, and what exactly can we do with this? So first, let\\'s explain a bit what this is\"}\\n')]\n"
     ]
    },
    {
     "name": "stderr",
     "output_type": "stream",
     "text": [
      "100%|██████████| 10/10 [00:40<00:00,  4.01s/it]"
     ]
    },
    {
     "name": "stdout",
     "output_type": "stream",
     "text": [
      "Generated Question: {'question': 'In the context of the Python Pandas tutorial part 8, how would you use the groupby function to group all the survey results by country name, specifically for India? Also, explain how this process is similar to running a filter on the original dataframe?'}\n",
      "[HumanMessage(content='\\nYou are a University Professor creating a test from pandas and matplotlip tutorials for advanced students. For each context, create a question that is specific to the context. Avoid creating generic or general questions.\\n\\nFormat the output as JSON with the following key:\\nquestion\\n\\nContext: {\"title\": \"Python Pandas Tutorial (Part 8): Grouping and Aggregating - Analyzing and Exploring Your Data\", \"text\": \". And if I look at the group for India, so if I instead change United States to India here and grab that group, if we look at the country here, then these are all the survey results for people who said that they were from India. So that\\'s what our data frame group by object that we saw before consists of. It has broken up all of the different responses into groups by country name. So this would be similar to running a filter on our original data frame. So I should be able to get these same results for a single country, just by doing what we\\'ve seen in previous videos and creating a filter\"}\\n')]\n"
     ]
    },
    {
     "name": "stderr",
     "output_type": "stream",
     "text": [
      "\n"
     ]
    }
   ],
   "source": [
    "from tqdm import tqdm\n",
    "from langchain.output_parsers import ResponseSchema, StructuredOutputParser\n",
    "\n",
    "question_schema = ResponseSchema(\n",
    "    name=\"question\",\n",
    "    description=\"A question about the context.\"\n",
    ")\n",
    "\n",
    "question_response_schemas = [question_schema]\n",
    "question_output_parser = StructuredOutputParser.from_response_schemas(question_response_schemas)\n",
    "format_instructions = question_output_parser.get_format_instructions()\n",
    "\n",
    "qa_template = \"\"\"\n",
    "You are a University Professor creating a test from pandas and matplotlip tutorials for advanced students. For each context, create a question that is specific to the context. Avoid creating generic or general questions.\n",
    "\n",
    "Format the output as JSON with the following key:\n",
    "question\n",
    "\n",
    "Context: {context}\n",
    "\"\"\"\n",
    "\n",
    "prompt_template = ChatPromptTemplate.from_template(template=qa_template)\n",
    "bare_template = ChatPromptTemplate.from_template(template=\"{content}\")\n",
    "question_generation_llm = ChatOpenAI(model=\"gpt-4\")\n",
    "\n",
    "question_generation_chain = bare_template | question_generation_llm\n",
    "\n",
    "\n",
    "qac_triples = []\n",
    "\n",
    "for text in tqdm(response):\n",
    "    messages = prompt_template.format_messages(\n",
    "        context=text.page_content,\n",
    "        format_instructions=format_instructions\n",
    "    )\n",
    "    response = question_generation_chain.invoke({\"content\": messages})\n",
    "    try:\n",
    "        output_dict = question_output_parser.parse(response.content)\n",
    "        print(\"Generated Question:\", output_dict)\n",
    "    except Exception as e:\n",
    "        print(f\"Error generating question: {e}\")\n",
    "        continue\n",
    "    output_dict[\"context\"] = text\n",
    "    qac_triples.append(output_dict)\n",
    "    print(messages)\n"
   ]
  },
  {
   "cell_type": "markdown",
   "metadata": {},
   "source": [
    "# Step 4: Generate Answers"
   ]
  },
  {
   "cell_type": "code",
   "execution_count": 117,
   "metadata": {},
   "outputs": [
    {
     "name": "stderr",
     "output_type": "stream",
     "text": [
      "100%|██████████| 10/10 [01:44<00:00, 10.43s/it]\n"
     ]
    }
   ],
   "source": [
    "answer_schema = ResponseSchema(\n",
    "    name=\"answer\",\n",
    "    description=\"An answer to the question.\"\n",
    ")\n",
    "\n",
    "answer_response_schemas = [answer_schema]\n",
    "answer_output_parser = StructuredOutputParser.from_response_schemas(answer_response_schemas)\n",
    "format_instructions = answer_output_parser.get_format_instructions()\n",
    "\n",
    "qa_template = \"\"\"\\\n",
    "You are a University Professor creating a test for advanced students. For each question and context, create an answer.\n",
    "\n",
    "Format the output as JSON with the following key:\n",
    "answer\n",
    "\n",
    "Question: {question}\n",
    "Context: {context}\n",
    "\"\"\"\n",
    "\n",
    "prompt_template = ChatPromptTemplate.from_template(template=qa_template)\n",
    "\n",
    "answer_generation_llm = ChatOpenAI(model=\"gpt-4\", temperature=0)\n",
    "\n",
    "answer_generation_chain = bare_template | answer_generation_llm\n",
    "\n",
    "for triple in tqdm(qac_triples):\n",
    "    messages = prompt_template.format_messages(\n",
    "        context=triple[\"context\"].page_content,\n",
    "        question=triple[\"question\"],\n",
    "        format_instructions=format_instructions\n",
    "    )\n",
    "    response = answer_generation_chain.invoke({\"content\": messages})\n",
    "    try:\n",
    "        output_dict = answer_output_parser.parse(response.content)\n",
    "        triple[\"answer\"] = output_dict[\"answer\"]\n",
    "    except Exception as e:\n",
    "        print(f\"Error generating answer: {e}\")\n"
   ]
  },
  {
   "cell_type": "markdown",
   "metadata": {},
   "source": [
    "# Step 5: Preparing Ground Truth Dataset\n"
   ]
  },
  {
   "cell_type": "code",
   "execution_count": 118,
   "metadata": {},
   "outputs": [
    {
     "name": "stdout",
     "output_type": "stream",
     "text": [
      "                                            question  \\\n",
      "0  In the context of Python Pandas, describe how ...   \n",
      "1  Given the tutorial on grouping and aggregating...   \n",
      "2  In the context of the tutorial, you are given ...   \n",
      "3  In the context of Python Pandas, as discussed ...   \n",
      "4  In the context of the tutorial 'Python Pandas ...   \n",
      "\n",
      "                                             context  \\\n",
      "0  {\"title\": \"Python Pandas Tutorial (Part 8): Gr...   \n",
      "1  {\"title\": \"Python Pandas Tutorial (Part 8): Gr...   \n",
      "2  {\"title\": \"Python Pandas Tutorial (Part 8): Gr...   \n",
      "3  {\"title\": \"Python Pandas Tutorial (Part 8): Gr...   \n",
      "4  {\"title\": \"Python Pandas Tutorial (Part 8): Gr...   \n",
      "\n",
      "                                        ground_truth  \n",
      "0  In Python Pandas, concatenating two series int...  \n",
      "1  To create a DataFrame where two series are con...  \n",
      "2  To concatenate the two series into one data fr...  \n",
      "3  In the context of Python Pandas, the 'pd.conca...  \n",
      "4  The df.groupby function in pandas is used to s...  \n"
     ]
    }
   ],
   "source": [
    "import pandas as pd\n",
    "\n",
    "ground_truth_qac_set = pd.DataFrame(qac_triples)\n",
    "ground_truth_qac_set[\"context\"] = ground_truth_qac_set[\"context\"].map(lambda x: str(x.page_content))\n",
    "ground_truth_qac_set = ground_truth_qac_set.rename(columns={\"answer\": \"ground_truth\"})\n",
    "\n",
    "print(ground_truth_qac_set.head())\n",
    "\n",
    "ground_truth_qac_set.to_csv(\"groundtruth_eval_dataset.csv\")\n"
   ]
  },
  {
   "cell_type": "markdown",
   "metadata": {},
   "source": [
    "# Step 6: Create RAG Dataset for Evaluation"
   ]
  },
  {
   "cell_type": "code",
   "execution_count": 119,
   "metadata": {},
   "outputs": [
    {
     "name": "stderr",
     "output_type": "stream",
     "text": [
      "100%|██████████| 10/10 [01:45<00:00, 10.53s/it]\n"
     ]
    },
    {
     "data": {
      "application/vnd.jupyter.widget-view+json": {
       "model_id": "6c96c23ca05c4614b4a4115956c41425",
       "version_major": 2,
       "version_minor": 0
      },
      "text/plain": [
       "Creating CSV from Arrow format:   0%|          | 0/1 [00:00<?, ?ba/s]"
      ]
     },
     "metadata": {},
     "output_type": "display_data"
    },
    {
     "data": {
      "text/plain": [
       "111247"
      ]
     },
     "execution_count": 119,
     "metadata": {},
     "output_type": "execute_result"
    }
   ],
   "source": [
    "from tqdm import tqdm\n",
    "from datasets import Dataset\n",
    "\n",
    "def create_ragas_dataset(rag_pipeline, eval_dataset):\n",
    "    rag_dataset = []\n",
    "    for _, row in tqdm(eval_dataset.iterrows(), total=len(eval_dataset)):\n",
    "        answer = rag_pipeline.invoke({\"question\": row[\"question\"]})\n",
    "        rag_dataset.append(\n",
    "            {\n",
    "                \"question\": row[\"question\"],\n",
    "                \"answer\": answer[\"response\"].content,\n",
    "                \"contexts\": [context.page_content for context in answer[\"context\"]],\n",
    "                \"ground_truth\": str(row[\"ground_truth\"]),\n",
    "            }\n",
    "        )\n",
    "    rag_df = pd.DataFrame(rag_dataset)\n",
    "    rag_eval_dataset = Dataset.from_pandas(rag_df)\n",
    "    return rag_eval_dataset\n",
    "\n",
    "basic_qa_ragas_dataset = create_ragas_dataset(retrieval_augmented_qa_chain, ground_truth_qac_set)\n",
    "basic_qa_ragas_dataset.to_csv(\"basic_qa_ragas_dataset.csv\")\n"
   ]
  },
  {
   "cell_type": "markdown",
   "metadata": {},
   "source": [
    "# Step 7: Evaluate RAG Dataset"
   ]
  },
  {
   "cell_type": "code",
   "execution_count": 120,
   "metadata": {},
   "outputs": [
    {
     "data": {
      "application/vnd.jupyter.widget-view+json": {
       "model_id": "7e4191c5e9ca4186a7c2c39420e15571",
       "version_major": 2,
       "version_minor": 0
      },
      "text/plain": [
       "Evaluating:   0%|          | 0/60 [00:00<?, ?it/s]"
      ]
     },
     "metadata": {},
     "output_type": "display_data"
    },
    {
     "name": "stdout",
     "output_type": "stream",
     "text": [
      "Evaluation Result: {'context_precision': 0.9977, 'faithfulness': 0.9449, 'answer_relevancy': 0.8983, 'context_recall': 0.7999, 'answer_correctness': 0.7227, 'answer_similarity': 0.9715}\n"
     ]
    }
   ],
   "source": [
    "from ragas.metrics import (\n",
    "    answer_relevancy,\n",
    "    faithfulness,\n",
    "    context_recall,\n",
    "    context_precision,\n",
    "    answer_correctness,\n",
    "    answer_similarity\n",
    ")\n",
    "from ragas import evaluate\n",
    "\n",
    "def evaluate_ragas_dataset(ragas_dataset):\n",
    "    result = evaluate(\n",
    "        ragas_dataset,\n",
    "        metrics=[\n",
    "            context_precision,\n",
    "            faithfulness,\n",
    "            answer_relevancy,\n",
    "            context_recall,\n",
    "            answer_correctness,\n",
    "            answer_similarity,\n",
    "        ],\n",
    "    )\n",
    "    return result\n",
    "\n",
    "basic_qa_result = evaluate_ragas_dataset(basic_qa_ragas_dataset)\n",
    "print(\"Evaluation Result:\", basic_qa_result)\n"
   ]
  },
  {
   "cell_type": "markdown",
   "metadata": {},
   "source": [
    "•\t**Context Precision:** Measures how much of the retrieved information is actually relevant to the question.\n",
    "\n",
    "•\t**Context Recall:** Measures how much of the relevant information is retrieved.\n",
    "\n",
    "•\t**Faithfulness:** Measures how factually accurate the generated answer is based on the retrieved information.\n",
    "\n",
    "•\t**Answer Relevancy:** This represents how relevant the answers are in relation to the questions.\n",
    "\n",
    "•   **Answer Similarity:** This measures how similar the generated answers are to the expected or ground truth answers.\n",
    "\n",
    "•   **Answer Correctness:** This indicates the correctness of the generated answers."
   ]
  }
 ],
 "metadata": {
  "kernelspec": {
   "display_name": "base",
   "language": "python",
   "name": "python3"
  },
  "language_info": {
   "codemirror_mode": {
    "name": "ipython",
    "version": 3
   },
   "file_extension": ".py",
   "mimetype": "text/x-python",
   "name": "python",
   "nbconvert_exporter": "python",
   "pygments_lexer": "ipython3",
   "version": "3.11.5"
  }
 },
 "nbformat": 4,
 "nbformat_minor": 2
}
